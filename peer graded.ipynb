{
 "cells": [
  {
   "attachments": {},
   "cell_type": "markdown",
   "metadata": {},
   "source": [
    "# Peer Review Assignment - Data Engineer - ETL\n"
   ]
  },
  {
   "cell_type": "code",
   "execution_count": 13,
   "metadata": {},
   "outputs": [],
   "source": [
    "#!mamba install pandas==1.3.3 -y\n",
    "#!mamba install requests==2.26.0 -y"
   ]
  },
  {
   "attachments": {},
   "cell_type": "markdown",
   "metadata": {},
   "source": [
    "## Imports\n",
    "\n",
    "Import any additional libraries you may need here.\n"
   ]
  },
  {
   "cell_type": "code",
   "execution_count": 14,
   "metadata": {},
   "outputs": [],
   "source": [
    "import glob\n",
    "import pandas as pd\n",
    "from datetime import datetime"
   ]
  },
  {
   "attachments": {},
   "cell_type": "markdown",
   "metadata": {},
   "source": [
    "As the exchange rate fluctuates, we will download the same dataset to make marking simpler. This will be in the same format as the dataset you used in the last section  \n"
   ]
  },
  {
   "cell_type": "code",
   "execution_count": 15,
   "metadata": {},
   "outputs": [
    {
     "name": "stdout",
     "output_type": "stream",
     "text": [
      "--2023-06-27 02:59:41--  https://cf-courses-data.s3.us.cloud-object-storage.appdomain.cloud/IBMDeveloperSkillsNetwork-PY0221EN-SkillsNetwork/labs/module%206/Lab%20-%20Extract%20Transform%20Load/data/bank_market_cap_1.json\n",
      "Resolving cf-courses-data.s3.us.cloud-object-storage.appdomain.cloud (cf-courses-data.s3.us.cloud-object-storage.appdomain.cloud)... 169.63.118.104\n",
      "Connecting to cf-courses-data.s3.us.cloud-object-storage.appdomain.cloud (cf-courses-data.s3.us.cloud-object-storage.appdomain.cloud)|169.63.118.104|:443... connected.\n",
      "HTTP request sent, awaiting response... 200 OK\n",
      "Length: 2815 (2.7K) [application/json]\n",
      "Saving to: ‘bank_market_cap_1.json.1’\n",
      "\n",
      "bank_market_cap_1.j 100%[===================>]   2.75K  --.-KB/s    in 0s      \n",
      "\n",
      "2023-06-27 02:59:41 (17.7 MB/s) - ‘bank_market_cap_1.json.1’ saved [2815/2815]\n",
      "\n",
      "--2023-06-27 02:59:42--  https://cf-courses-data.s3.us.cloud-object-storage.appdomain.cloud/IBMDeveloperSkillsNetwork-PY0221EN-SkillsNetwork/labs/module%206/Lab%20-%20Extract%20Transform%20Load/data/bank_market_cap_2.json\n",
      "Resolving cf-courses-data.s3.us.cloud-object-storage.appdomain.cloud (cf-courses-data.s3.us.cloud-object-storage.appdomain.cloud)... 169.63.118.104\n",
      "Connecting to cf-courses-data.s3.us.cloud-object-storage.appdomain.cloud (cf-courses-data.s3.us.cloud-object-storage.appdomain.cloud)|169.63.118.104|:443... connected.\n",
      "HTTP request sent, awaiting response... 200 OK\n",
      "Length: 1429 (1.4K) [application/json]\n",
      "Saving to: ‘bank_market_cap_2.json.1’\n",
      "\n",
      "bank_market_cap_2.j 100%[===================>]   1.40K  --.-KB/s    in 0s      \n",
      "\n",
      "2023-06-27 02:59:42 (11.6 MB/s) - ‘bank_market_cap_2.json.1’ saved [1429/1429]\n",
      "\n",
      "--2023-06-27 02:59:42--  https://cf-courses-data.s3.us.cloud-object-storage.appdomain.cloud/IBMDeveloperSkillsNetwork-PY0221EN-SkillsNetwork/labs/module%206/Final%20Assignment/exchange_rates.csv\n",
      "Resolving cf-courses-data.s3.us.cloud-object-storage.appdomain.cloud (cf-courses-data.s3.us.cloud-object-storage.appdomain.cloud)... 169.63.118.104\n",
      "Connecting to cf-courses-data.s3.us.cloud-object-storage.appdomain.cloud (cf-courses-data.s3.us.cloud-object-storage.appdomain.cloud)|169.63.118.104|:443... connected.\n",
      "HTTP request sent, awaiting response... 200 OK\n",
      "Length: 590 [text/csv]\n",
      "Saving to: ‘exchange_rates.csv.1’\n",
      "\n",
      "exchange_rates.csv. 100%[===================>]     590  --.-KB/s    in 0s      \n",
      "\n",
      "2023-06-27 02:59:42 (3.64 MB/s) - ‘exchange_rates.csv.1’ saved [590/590]\n",
      "\n"
     ]
    }
   ],
   "source": [
    "!wget https://cf-courses-data.s3.us.cloud-object-storage.appdomain.cloud/IBMDeveloperSkillsNetwork-PY0221EN-SkillsNetwork/labs/module%206/Lab%20-%20Extract%20Transform%20Load/data/bank_market_cap_1.json\n",
    "!wget https://cf-courses-data.s3.us.cloud-object-storage.appdomain.cloud/IBMDeveloperSkillsNetwork-PY0221EN-SkillsNetwork/labs/module%206/Lab%20-%20Extract%20Transform%20Load/data/bank_market_cap_2.json\n",
    "!wget https://cf-courses-data.s3.us.cloud-object-storage.appdomain.cloud/IBMDeveloperSkillsNetwork-PY0221EN-SkillsNetwork/labs/module%206/Final%20Assignment/exchange_rates.csv"
   ]
  },
  {
   "attachments": {},
   "cell_type": "markdown",
   "metadata": {},
   "source": [
    "## Extract\n"
   ]
  },
  {
   "cell_type": "code",
   "execution_count": 16,
   "metadata": {},
   "outputs": [],
   "source": [
    "def extract_from_json(file_to_process):\n",
    "    dataframe = pd.read_json(file_to_process)\n",
    "    return dataframe"
   ]
  },
  {
   "attachments": {},
   "cell_type": "markdown",
   "metadata": {},
   "source": [
    "## Extract Function\n",
    "\n",
    "Define the extract function that finds JSON file `bank_market_cap_1.json` and calls the function created above to extract data from them. Store the data in a `pandas` dataframe. Use the following list for the columns.\n"
   ]
  },
  {
   "cell_type": "code",
   "execution_count": 17,
   "metadata": {},
   "outputs": [],
   "source": [
    "columns=['Name','Market Cap (US$ Billion)']"
   ]
  },
  {
   "cell_type": "code",
   "execution_count": 18,
   "metadata": {},
   "outputs": [],
   "source": [
    "def extract():\n",
    "    # first code  part as usual \n",
    "    file = \"https://cf-courses-data.s3.us.cloud-object-storage.appdomain.cloud/IBMDeveloperSkillsNetwork-PY0221EN-SkillsNetwork/labs/module%206/Lab%20-%20Extract%20Transform%20Load/data/bank_market_cap_1.json\"\n",
    "    df = extract_from_json(file)[columns]\n",
    "    return df\n",
    "    "
   ]
  },
  {
   "attachments": {},
   "cell_type": "markdown",
   "metadata": {},
   "source": [
    "<b>Question 1</b> Load the file <code>exchange_rates.csv</code> as a dataframe and find the exchange rate for British pounds with the symbol <code>GBP</code>, store it in the variable  <code>exchange_rate</code>, you will be asked for the number. Hint: set the parameter  <code>index_col</code> to 0.\n"
   ]
  },
  {
   "cell_type": "code",
   "execution_count": 19,
   "metadata": {},
   "outputs": [],
   "source": [
    "#  beginnign of code \n",
    "pd_rates = pd.read_csv(\"exchange_rates.csv\")\n",
    "#code for printing rates \n",
    "exchange_rate = pd_rates[pd_rates.iloc[:,0] == \"GBP\"]\n",
    "#code for printing exchange rates \n"
   ]
  },
  {
   "attachments": {},
   "cell_type": "markdown",
   "metadata": {},
   "source": [
    "## Transform\n",
    "\n",
    "Using <code>exchange_rate</code> and the `exchange_rates.csv` file find the exchange rate of USD to GBP. Write a transform function that\n",
    "\n",
    "1. Changes the `Market Cap (US$ Billion)` column from USD to GBP\n",
    "2. Rounds the Market Cap (US$ Billion)` column to 3 decimal places\n",
    "3. Rename `Market Cap (US$ Billion)` to `Market Cap (GBP$ Billion)`\n"
   ]
  },
  {
   "cell_type": "code",
   "execution_count": 20,
   "metadata": {},
   "outputs": [],
   "source": [
    "def transform(data):\n",
    "    # first code part \n",
    "    data[\"Market Cap (US$ Billion)\"] = round(data['Market Cap (US$ Billion)'] * float(exchange_rate['Rates']),3)\n",
    "    data.rename(columns={'Market Cap (US$ Billion)':'Market Cap (GBP$ Billion)'}, inplace=True)\n",
    "    #printing data results \n",
    "\n",
    "    return data"
   ]
  },
  {
   "attachments": {},
   "cell_type": "markdown",
   "metadata": {},
   "source": [
    "## Load\n",
    "\n",
    "Create a function that takes a dataframe and load it to a csv named `bank_market_cap_gbp.csv`. Make sure to set `index` to `False`.\n"
   ]
  },
  {
   "cell_type": "code",
   "execution_count": 21,
   "metadata": {},
   "outputs": [],
   "source": [
    "def load(data):\n",
    "    # first code part as usual \n",
    "    print(data.to_csv(index=False))\n",
    "    with open(\"bank_market_cap_gbp.csv\",\"w\") as f:\n",
    "        f.write(data.to_csv(index=False))"
   ]
  },
  {
   "attachments": {},
   "cell_type": "markdown",
   "metadata": {},
   "source": [
    "## Logging Function\n"
   ]
  },
  {
   "attachments": {},
   "cell_type": "markdown",
   "metadata": {},
   "source": [
    "Write the logging function <code>log</code> to log your data:\n"
   ]
  },
  {
   "cell_type": "code",
   "execution_count": 22,
   "metadata": {},
   "outputs": [],
   "source": [
    "def log(message):\n",
    "    # first code part  to  begin with \n",
    "    print(message)"
   ]
  },
  {
   "attachments": {},
   "cell_type": "markdown",
   "metadata": {},
   "source": [
    "## Running the ETL Process\n"
   ]
  },
  {
   "attachments": {},
   "cell_type": "markdown",
   "metadata": {},
   "source": [
    "Log the process accordingly using the following <code>\"ETL Job Started\"</code> and <code>\"Extract phase Started\"</code>\n"
   ]
  },
  {
   "cell_type": "code",
   "execution_count": 23,
   "metadata": {},
   "outputs": [
    {
     "name": "stdout",
     "output_type": "stream",
     "text": [
      "ETL Job Started\n",
      "Extract phase Started\n"
     ]
    }
   ],
   "source": [
    "#  we start with function  log per normal \n",
    "log(\"ETL Job Started\")\n",
    "log(\"Extract phase Started\")\n"
   ]
  },
  {
   "attachments": {},
   "cell_type": "markdown",
   "metadata": {},
   "source": [
    "### Extract\n"
   ]
  },
  {
   "attachments": {},
   "cell_type": "markdown",
   "metadata": {},
   "source": [
    "<code>Question 2</code> Use the function <code>extract</code>, and print the first 5 rows, take a screen shot:\n"
   ]
  },
  {
   "cell_type": "code",
   "execution_count": 24,
   "metadata": {},
   "outputs": [
    {
     "name": "stdout",
     "output_type": "stream",
     "text": [
      "                                      Name  Market Cap (US$ Billion)\n",
      "0                           JPMorgan Chase                   390.934\n",
      "1  Industrial and Commercial Bank of China                   345.214\n",
      "2                          Bank of America                   325.331\n",
      "3                              Wells Fargo                   308.013\n",
      "4                  China Construction Bank                   257.399\n"
     ]
    }
   ],
   "source": [
    "\n",
    "df = extract()\n",
    "print(df.head(5))\n"
   ]
  },
  {
   "attachments": {},
   "cell_type": "markdown",
   "metadata": {},
   "source": [
    "Log the data as <code>\"Extract phase Ended\"</code>\n"
   ]
  },
  {
   "cell_type": "code",
   "execution_count": 25,
   "metadata": {},
   "outputs": [
    {
     "name": "stdout",
     "output_type": "stream",
     "text": [
      "Extract phase Ended\n"
     ]
    }
   ],
   "source": [
    "\n",
    "log(\"Extract phase Ended\")"
   ]
  },
  {
   "attachments": {},
   "cell_type": "markdown",
   "metadata": {},
   "source": [
    "### Transform\n"
   ]
  },
  {
   "attachments": {},
   "cell_type": "markdown",
   "metadata": {},
   "source": [
    "Log the following  <code>\"Transform phase Started\"</code>\n"
   ]
  },
  {
   "cell_type": "code",
   "execution_count": 26,
   "metadata": {},
   "outputs": [
    {
     "name": "stdout",
     "output_type": "stream",
     "text": [
      "Transform phase Started\n"
     ]
    }
   ],
   "source": [
    "\n",
    "log(\"Transform phase Started\")\n"
   ]
  },
  {
   "attachments": {},
   "cell_type": "markdown",
   "metadata": {},
   "source": [
    "<code>Question 3</code> Use the function <code>transform</code> and print the first 5 rows of the output, take a screen shot:\n"
   ]
  },
  {
   "cell_type": "code",
   "execution_count": 27,
   "metadata": {},
   "outputs": [
    {
     "name": "stdout",
     "output_type": "stream",
     "text": [
      "                                      Name  Market Cap (GBP$ Billion)\n",
      "0                           JPMorgan Chase                    286.319\n",
      "1  Industrial and Commercial Bank of China                    252.834\n",
      "2                          Bank of America                    238.272\n",
      "3                              Wells Fargo                    225.588\n",
      "4                  China Construction Bank                    188.519\n"
     ]
    }
   ],
   "source": [
    "# function first \n",
    "result = transform(df)\n",
    "# first 5 rows values \n",
    "print(result.head(5))\n"
   ]
  },
  {
   "attachments": {},
   "cell_type": "markdown",
   "metadata": {},
   "source": [
    "Log your data <code>\"Transform phase Ended\"</code>\n"
   ]
  },
  {
   "cell_type": "code",
   "execution_count": 28,
   "metadata": {},
   "outputs": [
    {
     "name": "stdout",
     "output_type": "stream",
     "text": [
      "Transfrom phase Ended\n"
     ]
    }
   ],
   "source": [
    "\n",
    "log(\"Transfrom phase Ended\")\n"
   ]
  },
  {
   "attachments": {},
   "cell_type": "markdown",
   "metadata": {},
   "source": [
    "### Load\n"
   ]
  },
  {
   "attachments": {},
   "cell_type": "markdown",
   "metadata": {},
   "source": [
    "Log the following `\"Load phase Started\"`.\n"
   ]
  },
  {
   "cell_type": "code",
   "execution_count": 29,
   "metadata": {},
   "outputs": [
    {
     "name": "stdout",
     "output_type": "stream",
     "text": [
      "Load phase Started\n"
     ]
    }
   ],
   "source": [
    "# log function \n",
    "log(\"Load phase Started\")"
   ]
  },
  {
   "attachments": {},
   "cell_type": "markdown",
   "metadata": {},
   "source": [
    "Call the load function\n"
   ]
  },
  {
   "cell_type": "code",
   "execution_count": 30,
   "metadata": {},
   "outputs": [
    {
     "name": "stdout",
     "output_type": "stream",
     "text": [
      "Name,Market Cap (GBP$ Billion)\n",
      "JPMorgan Chase,286.319\n",
      "Industrial and Commercial Bank of China,252.834\n",
      "Bank of America,238.272\n",
      "Wells Fargo,225.588\n",
      "China Construction Bank,188.519\n",
      "HSBC Holdings PLC,160.593\n",
      "Agricultural Bank of China,148.856\n",
      "Citigroup Inc.,148.798\n",
      "Bank of China,132.908\n",
      "China Merchants Bank,89.804\n",
      "Royal Bank of Canada,89.766\n",
      "Banco Santander,84.736\n",
      "Commonwealth Bank,82.195\n",
      "Mitsubishi UFJ Financial Group,81.78\n",
      "Toronto-Dominion Bank,79.428\n",
      "BNP Paribas,75.626\n",
      "Goldman Sachs,73.756\n",
      "Sberbank of Russia,73.123\n",
      "Morgan Stanley,72.984\n",
      "U.S. Bancorp,69.254\n",
      "HDFC Bank,64.77\n",
      "Itaú Unibanco,63.135\n",
      "Westpac,61.932\n",
      "Scotiabank,57.821\n",
      "ING Group,57.801\n",
      "UBS,55.283\n",
      "Charles Schwab,54.384\n",
      "PNC Financial Services,52.913\n",
      "Lloyds Banking Group,52.186\n",
      "Sumitomo Mitsui Financial Group,49.311\n",
      "Bank of Communications,49.128\n",
      "Australia and New Zealand Banking Group,48.666\n",
      "Banco Bradesco,47.471\n",
      "National Australia Bank,46.723\n",
      "Intesa Sanpaolo,45.432\n",
      "Banco Bilbao Vizcaya Argentaria,44.44\n",
      "Japan Post Bank,44.328\n",
      "The Bank of New York Mellon,43.814\n",
      "Shanghai Pudong Development Bank,43.062\n",
      "Industrial Bank (China),42.031\n",
      "Bank of China (Hong Kong),40.611\n",
      "Bank of Montreal,38.95\n",
      "Crédit Agricole,38.188\n",
      "DBS Bank,37.7\n",
      "Nordea,37.488\n",
      "Capital One,37.431\n",
      "NatWest Group,36.979\n",
      "Mizuho Financial Group,36.633\n",
      "Credit Suisse,35.493\n",
      "Postal Savings Bank of China,35.117\n",
      "China Minsheng Bank,35.097\n",
      "UniCredit,34.992\n",
      "China CITIC Bank,34.753\n",
      "Hang Seng Bank,33.816\n",
      "Société Générale,33.728\n",
      "Barclays,33.58\n",
      "Canadian Imperial Bank of Commerce,31.892\n",
      "Bank Central Asia,31.745\n",
      "Truist Financial,30.704\n",
      "Oversea-Chinese Banking Corp,30.293\n",
      "State Bank of India,29.708\n",
      "State Street,29.127\n",
      "Deutsche Bank,28.306\n",
      "KBC Bank,28.12\n",
      "Danske Bank,27.994\n",
      "Ping An Bank,27.826\n",
      "Standard Chartered,27.332\n",
      "United Overseas Bank,25.728\n",
      "QNB Group,24.579\n",
      "Bank Rakyat,24.228\n",
      "\n"
     ]
    }
   ],
   "source": [
    "# load function \n",
    "load(result)"
   ]
  },
  {
   "attachments": {},
   "cell_type": "markdown",
   "metadata": {},
   "source": [
    "Log the following `\"Load phase Ended\"`.\n"
   ]
  },
  {
   "cell_type": "code",
   "execution_count": 31,
   "metadata": {},
   "outputs": [
    {
     "name": "stdout",
     "output_type": "stream",
     "text": [
      "Load phase Ended\n"
     ]
    }
   ],
   "source": [
    "# final code lines \n",
    "log(\"Load phase Ended\")"
   ]
  },
  {
   "attachments": {},
   "cell_type": "markdown",
   "metadata": {},
   "source": [
    "nilaysingh\n"
   ]
  }
 ],
 "metadata": {
  "kernelspec": {
   "display_name": "Python",
   "language": "python",
   "name": "conda-env-python-py"
  },
  "language_info": {
   "codemirror_mode": {
    "name": "ipython",
    "version": 3
   },
   "file_extension": ".py",
   "mimetype": "text/x-python",
   "name": "python",
   "nbconvert_exporter": "python",
   "pygments_lexer": "ipython3",
   "version": "3.7.12"
  }
 },
 "nbformat": 4,
 "nbformat_minor": 4
}
